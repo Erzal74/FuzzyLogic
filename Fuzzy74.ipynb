{
 "cells": [
  {
   "cell_type": "markdown",
   "metadata": {},
   "source": [
    "11. Buatlah program sederhana tentang operasi aritmatika lalu jalankan."
   ]
  },
  {
   "cell_type": "code",
   "execution_count": 1,
   "metadata": {},
   "outputs": [
    {
     "name": "stdout",
     "output_type": "stream",
     "text": [
      "12\n"
     ]
    }
   ],
   "source": [
    "a=7\n",
    "b=5\n",
    "print (a+b)"
   ]
  },
  {
   "cell_type": "markdown",
   "metadata": {},
   "source": [
    "12. Implementasi menu dan function."
   ]
  },
  {
   "cell_type": "code",
   "execution_count": 2,
   "metadata": {},
   "outputs": [
    {
     "name": "stdout",
     "output_type": "stream",
     "text": [
      "9 + 8 = 17\n"
     ]
    }
   ],
   "source": [
    "def penjumlahan(x,y):\n",
    "    return x+y\n",
    "\n",
    "def pengurangan(x,y):\n",
    "    return x-y\n",
    "\n",
    "pilihan = input (\"Masukkan pilihan (a) Penjumlahan (b) Pengurangan:\")\n",
    "x = int(input(\"x=\"))\n",
    "y = int(input(\"y=\"))\n",
    "\n",
    "if pilihan == \"a\":\n",
    "    print(x,\"+\",y,\"=\",penjumlahan(x,y))\n",
    "elif pilihan == \"b\":\n",
    "    print(x,\"-\",y,\"=\",pengurangan(x,y))\n",
    "else:\n",
    "    print(\"Bukan pilihan a atau b\")"
   ]
  },
  {
   "cell_type": "markdown",
   "metadata": {},
   "source": [
    "13. [Tugas] Buatlah sebuah program sederhana untuk menghitung luas segitiga\n",
    "melalui sebuah inputan (cm) dan memberikan hasil info status, dengan\n",
    "ketentuan:\n",
    "a) Luas > 50 cm → status: Besar\n",
    "b) 25 < Luas <= 50 cm → status: Menengah\n",
    "c) Luas <= 25 cm → status: Kecil"
   ]
  },
  {
   "cell_type": "code",
   "execution_count": 15,
   "metadata": {},
   "outputs": [
    {
     "name": "stdout",
     "output_type": "stream",
     "text": [
      "Program Menghitung Luas Segitiga\n",
      "------------------------------\n",
      "\n",
      "Hasil Perhitungan:\n",
      "Luas Segitiga = 10.00 cm²\n",
      "Status: Kecil\n"
     ]
    }
   ],
   "source": [
    "# Cell 1: Import dan Definisi Fungsi\n",
    "def hitung_luas_segitiga(alas, tinggi):\n",
    "    \"\"\"\n",
    "    Menghitung luas segitiga dan menentukan statusnya.\n",
    "    Parameters:\n",
    "        alas (float): Panjang alas segitiga dalam cm\n",
    "        tinggi (float): Tinggi segitiga dalam cm\n",
    "    Returns:\n",
    "        tuple: (luas, status)\n",
    "    \"\"\"\n",
    "    luas = 0.5 * alas * tinggi\n",
    "\n",
    "    if luas > 50:\n",
    "        status = \"Besar\"\n",
    "    elif 25 < luas <= 50:\n",
    "        status = \"Menengah\"\n",
    "    else:\n",
    "        status = \"Kecil\"\n",
    "\n",
    "    return luas, status\n",
    "\n",
    "# Cell 2: Fungsi Main untuk Interaksi dengan Pengguna\n",
    "def main():\n",
    "    print(\"Program Menghitung Luas Segitiga\")\n",
    "    print(\"-\" * 30)\n",
    "\n",
    "    try:\n",
    "        # Input dari pengguna\n",
    "        alas = float(input(\"Masukkan panjang alas (cm): \"))\n",
    "        tinggi = float(input(\"Masukkan tinggi (cm): \"))\n",
    "\n",
    "        if alas <= 0 or tinggi <= 0:\n",
    "            print(\"Error: Panjang alas dan tinggi harus lebih besar dari 0!\")\n",
    "            return\n",
    "\n",
    "        # Hitung luas dan status\n",
    "        luas, status = hitung_luas_segitiga(alas, tinggi)\n",
    "\n",
    "        # Tampilkan hasil\n",
    "        print(\"\\nHasil Perhitungan:\")\n",
    "        print(f\"Luas Segitiga = {luas:.2f} cm²\")\n",
    "        print(f\"Status: {status}\")\n",
    "\n",
    "    except ValueError:\n",
    "        print(\"Error: Mohon masukkan angka yang valid!\")\n",
    "\n",
    "# Cell 3: Menjalankan Program\n",
    "if __name__ == \"__main__\":\n",
    "    main()\n"
   ]
  }
 ],
 "metadata": {
  "kernelspec": {
   "display_name": "Python 3",
   "language": "python",
   "name": "python3"
  },
  "language_info": {
   "codemirror_mode": {
    "name": "ipython",
    "version": 3
   },
   "file_extension": ".py",
   "mimetype": "text/x-python",
   "name": "python",
   "nbconvert_exporter": "python",
   "pygments_lexer": "ipython3",
   "version": "3.12.5"
  }
 },
 "nbformat": 4,
 "nbformat_minor": 2
}
